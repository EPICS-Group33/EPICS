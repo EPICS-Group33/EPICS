{
 "cells": [
  {
   "cell_type": "code",
   "execution_count": null,
   "metadata": {},
   "outputs": [],
   "source": [
    "import pandas as pd\n",
    "import numpy as np\n",
    "from matplotlib import pyplot as plt"
   ]
  },
  {
   "cell_type": "markdown",
   "metadata": {},
   "source": [
    "# Data Exploration"
   ]
  },
  {
   "cell_type": "code",
   "execution_count": null,
   "metadata": {},
   "outputs": [],
   "source": [
    "activity_codes_mapping = {'A': 'walking',\n",
    "                          'B': 'jogging',\n",
    "                          'C': 'stairs',\n",
    "                          'D': 'sitting',\n",
    "                          'E': 'standing',\n",
    "                          'F': 'typing',\n",
    "                          'G': 'brushing teeth',\n",
    "                          'H': 'eating soup',\n",
    "                          'I': 'eating chips',\n",
    "                          'J': 'eating pasta',\n",
    "                          'K': 'drinking from cup',\n",
    "                          'L': 'eating sandwich',\n",
    "                          'M': 'kicking soccer ball',\n",
    "                          'O': 'playing catch tennis ball',\n",
    "                          'P': 'dribbling basket ball',\n",
    "                          'Q': 'writing',\n",
    "                          'R': 'clapping',\n",
    "                          'S': 'folding clothes'}\n",
    "\n",
    "activity_color_map = {activity_codes_mapping['A']: 'lime',\n",
    "                      activity_codes_mapping['B']: 'red',\n",
    "                      activity_codes_mapping['C']: 'blue',\n",
    "                      activity_codes_mapping['D']: 'orange',\n",
    "                      activity_codes_mapping['E']: 'yellow',\n",
    "                      activity_codes_mapping['F']: 'lightgreen',\n",
    "                      activity_codes_mapping['G']: 'greenyellow',\n",
    "                      activity_codes_mapping['H']: 'magenta',\n",
    "                      activity_codes_mapping['I']: 'gold',\n",
    "                      activity_codes_mapping['J']: 'cyan',\n",
    "                      activity_codes_mapping['K']: 'purple',\n",
    "                      activity_codes_mapping['L']: 'lightgreen',\n",
    "                      activity_codes_mapping['M']: 'violet',\n",
    "                      activity_codes_mapping['O']: 'limegreen',\n",
    "                      activity_codes_mapping['P']: 'deepskyblue',   \n",
    "                      activity_codes_mapping['Q']: 'mediumspringgreen',\n",
    "                      activity_codes_mapping['R']: 'plum',\n",
    "                      activity_codes_mapping['S']: 'olive'}\n",
    "#                     activity_codes_mapping['A']: 'rgb(231, 41, 138)',"
   ]
  },
  {
   "cell_type": "code",
   "execution_count": null,
   "metadata": {},
   "outputs": [],
   "source": [
    "def show_accel_per_activity(device, df, act, interval_in_sec = None):\n",
    "  ''' Plots acceleration time history per activity '''\n",
    "\n",
    "  df1 = df.loc[df.activity == act].copy()\n",
    "  df1.reset_index(drop = True, inplace = True)\n",
    "\n",
    "  df1['duration'] = (df1['timestamp'] - df1['timestamp'].iloc[0])/1000000000 # nanoseconds --> seconds\n",
    "\n",
    "  if interval_in_sec == None:\n",
    "    ax = df1[:].plot(kind='line', x='duration', y=['x','y','z'], figsize=(25,7), grid = True) # ,title = act)\n",
    "  else:\n",
    "    ax = df1[:interval_in_sec*20].plot(kind='line', x='duration', y=['x','y','z'], figsize=(25,7), grid = True) # ,title = act)\n",
    "\n",
    "  ax.set_xlabel('duration  (sec)', fontsize = 15)\n",
    "  ax.set_ylabel('acceleration  (m/sec^2)',fontsize = 15)\n",
    "  ax.set_title('Acceleration:   Device: ' + device + '      Activity:  ' + act, fontsize = 15)"
   ]
  },
  {
   "cell_type": "code",
   "execution_count": null,
   "metadata": {},
   "outputs": [],
   "source": [
    "def show_ang_velocity_per_activity(device, df, act, interval_in_sec = None):\n",
    "  ''' Plots angular volocity time history per activity '''\n",
    "\n",
    "  df1 = df.loc[df.activity == act].copy()\n",
    "  df1.reset_index(drop = True, inplace = True)\n",
    "\n",
    "  df1['duration'] = (df1['timestamp'] - df1['timestamp'].iloc[0])/1000000000 # nanoseconds --> seconds\n",
    "\n",
    "  if interval_in_sec == None:\n",
    "    ax = df1[:].plot(kind='line', x='duration', y=['x','y','z'], figsize=(25,7), grid = True) # ,title = act)\n",
    "  else:\n",
    "    ax = df1[:interval_in_sec*20].plot(kind='line', x='duration', y=['x','y','z'], figsize=(25,7), grid = True) # ,title = act)\n",
    "\n",
    "  ax.set_xlabel('duration  (sec)', fontsize = 15)\n",
    "  ax.set_ylabel('angular velocity  (rad/sec)',fontsize = 15)\n",
    "  ax.set_title('Angular velocity:  Device: ' + device + '      Activity:  ' + act, fontsize = 15)"
   ]
  },
  {
   "cell_type": "code",
   "execution_count": null,
   "metadata": {},
   "outputs": [],
   "source": [
    "raw_par_10_phone_accel = pd.read_csv(r'/wisdm-dataset/wisdm-dataset/raw/phone/accel/data_1610_accel_phone.txt', names = ['participant_id' , 'activity_code' , 'timestamp', 'x', 'y', 'z'], index_col=None, header=None)\n",
    "\n",
    "raw_par_10_phone_accel.z = raw_par_10_phone_accel.z.str.strip(';')\n",
    "raw_par_10_phone_accel.z = pd.to_numeric(raw_par_10_phone_accel.z)\n",
    "\n",
    "raw_par_10_phone_accel['activity'] = raw_par_10_phone_accel['activity_code'].map(activity_codes_mapping)\n",
    "\n",
    "raw_par_10_phone_accel = raw_par_10_phone_accel[['participant_id', 'activity_code', 'activity', 'timestamp', 'x', 'y', 'z']]\n",
    "\n",
    "raw_par_10_phone_accel"
   ]
  },
  {
   "cell_type": "code",
   "execution_count": null,
   "metadata": {},
   "outputs": [],
   "source": [
    "#T = raw_par_10_phone_accel.iloc[:200]\n",
    "T = raw_par_10_phone_accel\n",
    "_ = T[['x', 'y', 'z']].hist(bins = 50, figsize = (20, 5), color='green')\n",
    "#T.hist(column='x', by='activity')"
   ]
  },
  {
   "cell_type": "code",
   "execution_count": null,
   "metadata": {},
   "outputs": [],
   "source": [
    "for key in activity_codes_mapping:\n",
    "  show_accel_per_activity('Phone', raw_par_10_phone_accel, activity_codes_mapping[key], 10)"
   ]
  },
  {
   "cell_type": "code",
   "execution_count": null,
   "metadata": {},
   "outputs": [],
   "source": [
    "raw_par_20_watch_accel = pd.read_csv(r'/kaggle/input/wisdm-dataset/wisdm-dataset/raw/watch/accel/data_1620_accel_watch.txt', names = ['participant_id' , 'activity_code' , 'timestamp', 'x', 'y', 'z'], index_col=None, header=None)\n",
    "\n",
    "raw_par_20_watch_accel.z = raw_par_20_watch_accel.z.str.strip(';')\n",
    "raw_par_20_watch_accel.z = pd.to_numeric(raw_par_20_watch_accel.z)\n",
    "\n",
    "raw_par_20_watch_accel['activity'] = raw_par_20_watch_accel['activity_code'].map(activity_codes_mapping)\n",
    "\n",
    "raw_par_20_watch_accel = raw_par_20_watch_accel[['participant_id', 'activity_code', 'activity', 'timestamp', 'x', 'y', 'z']]\n",
    "\n",
    "raw_par_20_watch_accel"
   ]
  },
  {
   "cell_type": "code",
   "execution_count": null,
   "metadata": {},
   "outputs": [],
   "source": [
    "#T = raw_par_20_watch_accel.iloc[:200]\n",
    "T = raw_par_20_watch_accel\n",
    "_ = T[['x', 'y', 'z']].hist(bins = 50, figsize = (20, 5), color='green')"
   ]
  },
  {
   "cell_type": "code",
   "execution_count": null,
   "metadata": {},
   "outputs": [],
   "source": [
    "for key in activity_codes_mapping:\n",
    "  show_accel_per_activity('Watch', raw_par_20_watch_accel, activity_codes_mapping[key], 50)"
   ]
  },
  {
   "cell_type": "code",
   "execution_count": null,
   "metadata": {},
   "outputs": [],
   "source": [
    "raw_par_35_phone_ang_vel = pd.read_csv(r'/kaggle/input/wisdm-dataset/wisdm-dataset/raw/phone/gyro/data_1635_gyro_phone.txt', names = ['participant_id' , 'activity_code' , 'timestamp', 'x', 'y', 'z'], index_col=None, header=None)\n",
    "\n",
    "raw_par_35_phone_ang_vel.z = raw_par_35_phone_ang_vel.z.str.strip(';')\n",
    "raw_par_35_phone_ang_vel.z = pd.to_numeric(raw_par_35_phone_ang_vel.z)\n",
    "\n",
    "raw_par_35_phone_ang_vel['activity'] = raw_par_35_phone_ang_vel['activity_code'].map(activity_codes_mapping)\n",
    "\n",
    "raw_par_35_phone_ang_vel = raw_par_35_phone_ang_vel[['participant_id', 'activity_code', 'activity', 'timestamp', 'x', 'y', 'z']]\n",
    "\n",
    "raw_par_35_phone_ang_vel"
   ]
  },
  {
   "cell_type": "code",
   "execution_count": null,
   "metadata": {},
   "outputs": [],
   "source": [
    "T = raw_par_35_phone_ang_vel\n",
    "_ = T[['x', 'y', 'z']].hist(bins = 50, figsize = (20, 5), color='green')"
   ]
  },
  {
   "cell_type": "code",
   "execution_count": null,
   "metadata": {},
   "outputs": [],
   "source": [
    "for key in activity_codes_mapping:\n",
    "  show_ang_velocity_per_activity('Phone', raw_par_35_phone_ang_vel, activity_codes_mapping[key])"
   ]
  },
  {
   "cell_type": "code",
   "execution_count": null,
   "metadata": {},
   "outputs": [],
   "source": [
    "raw_par_45_watch_ang_vel = pd.read_csv(r'/kaggle/input/wisdm-dataset/wisdm-dataset/raw/watch/gyro/data_1635_gyro_watch.txt', names = ['participant_id' , 'activity_code' , 'timestamp', 'x', 'y', 'z'], index_col=None, header=None)\n",
    "\n",
    "raw_par_45_watch_ang_vel.z = raw_par_45_watch_ang_vel.z.str.strip(';')\n",
    "raw_par_45_watch_ang_vel.z = pd.to_numeric(raw_par_45_watch_ang_vel.z)\n",
    "\n",
    "raw_par_45_watch_ang_vel['activity'] = raw_par_45_watch_ang_vel['activity_code'].map(activity_codes_mapping)\n",
    "\n",
    "raw_par_45_watch_ang_vel = raw_par_45_watch_ang_vel[['participant_id', 'activity_code', 'activity', 'timestamp', 'x', 'y', 'z']]\n",
    "\n",
    "raw_par_45_watch_ang_vel"
   ]
  },
  {
   "cell_type": "code",
   "execution_count": null,
   "metadata": {},
   "outputs": [],
   "source": [
    "T = raw_par_45_watch_ang_vel\n",
    "_ = T[['x', 'y', 'z']].hist(bins = 50, figsize = (20, 5), color='green')"
   ]
  },
  {
   "cell_type": "code",
   "execution_count": null,
   "metadata": {},
   "outputs": [],
   "source": [
    "for key in activity_codes_mapping:\n",
    "  show_ang_velocity_per_activity('Watch', raw_par_45_watch_ang_vel, activity_codes_mapping[key])"
   ]
  },
  {
   "cell_type": "markdown",
   "metadata": {},
   "source": [
    "# Refactoring Data to be used in model"
   ]
  },
  {
   "cell_type": "code",
   "execution_count": null,
   "metadata": {},
   "outputs": [],
   "source": [
    "features = ['ACTIVITY',\n",
    "            'X0', # 1st bin fraction of x axis acceleration distribution\n",
    "            'X1', # 2nd bin fraction ...\n",
    "            'X2',\n",
    "            'X3',\n",
    "            'X4',\n",
    "            'X5',\n",
    "            'X6',\n",
    "            'X7',\n",
    "            'X8',\n",
    "            'X9',\n",
    "            'Y0', # 1st bin fraction of y axis acceleration distribution\n",
    "            'Y1', # 2nd bin fraction ...\n",
    "            'Y2',\n",
    "            'Y3',\n",
    "            'Y4',\n",
    "            'Y5',\n",
    "            'Y6',\n",
    "            'Y7',\n",
    "            'Y8',\n",
    "            'Y9',\n",
    "            'Z0', # 1st bin fraction of z axis acceleration distribution\n",
    "            'Z1', # 2nd bin fraction ...\n",
    "            'Z2',\n",
    "            'Z3',\n",
    "            'Z4',\n",
    "            'Z5',\n",
    "            'Z6',\n",
    "            'Z7',\n",
    "            'Z8',\n",
    "            'Z9',\n",
    "            'XAVG', # average sensor value over the window (per axis)\n",
    "            'YAVG',\n",
    "            'ZAVG',\n",
    "            'XPEAK', # Time in milliseconds between the peaks in the wave associated with most activities. heuristically determined (per axis)\n",
    "            'YPEAK',\n",
    "            'ZPEAK',\n",
    "            'XABSOLDEV', # Average absolute difference between the each of the 200 readings and the mean of those values (per axis)\n",
    "            'YABSOLDEV',\n",
    "            'ZABSOLDEV',\n",
    "            'XSTANDDEV', # Standard deviation of the 200 window's values (per axis)  ***BUG!***\n",
    "            'YSTANDDEV',\n",
    "            'ZSTANDDEV',\n",
    "            'XVAR', # Variance of the 200 window's values (per axis)   ***BUG!***\n",
    "            'YVAR',\n",
    "            'ZVAR',\n",
    "            'XMFCC0', # short-term power spectrum of a wave, based on a linear cosine transform of a log power spectrum on a non-linear mel scale of frequency (13 values per axis)\n",
    "            'XMFCC1',\n",
    "            'XMFCC2',\n",
    "            'XMFCC3',\n",
    "            'XMFCC4',\n",
    "            'XMFCC5',\n",
    "            'XMFCC6',\n",
    "            'XMFCC7',\n",
    "            'XMFCC8',\n",
    "            'XMFCC9',\n",
    "            'XMFCC10',\n",
    "            'XMFCC11',\n",
    "            'XMFCC12',\n",
    "            'YMFCC0', # short-term power spectrum of a wave, based on a linear cosine transform of a log power spectrum on a non-linear mel scale of frequency (13 values per axis)\n",
    "            'YMFCC1',\n",
    "            'YMFCC2',\n",
    "            'YMFCC3',\n",
    "            'YMFCC4',\n",
    "            'YMFCC5',\n",
    "            'YMFCC6',\n",
    "            'YMFCC7',\n",
    "            'YMFCC8',\n",
    "            'YMFCC9',\n",
    "            'YMFCC10',\n",
    "            'YMFCC11',\n",
    "            'YMFCC12',\n",
    "            'ZMFCC0', # short-term power spectrum of a wave, based on a linear cosine transform of a log power spectrum on a non-linear mel scale of frequency (13 values per axis)\n",
    "            'ZMFCC1',\n",
    "            'ZMFCC2',\n",
    "            'ZMFCC3',\n",
    "            'ZMFCC4',\n",
    "            'ZMFCC5',\n",
    "            'ZMFCC6',\n",
    "            'ZMFCC7',\n",
    "            'ZMFCC8',\n",
    "            'ZMFCC9',\n",
    "            'ZMFCC10',\n",
    "            'ZMFCC11',\n",
    "            'ZMFCC12',\n",
    "            'XYCOS', # The cosine distances between sensor values for pairs of axes (three pairs of axes)\n",
    "            'XZCOS',\n",
    "            'YZCOS',\n",
    "            'XYCOR', # The correlation between sensor values for pairs of axes (three pairs of axes)\n",
    "            'XZCOR',\n",
    "            'YZCOR',\n",
    "            'RESULTANT', # Average resultant value, computed by squaring each matching x, y, and z value, summing them, taking the square root, and then averaging these values over the 200 readings\n",
    "            'PARTICIPANT'] # Categirical: 1600 -1650\n",
    "\n",
    "len(features)"
   ]
  },
  {
   "cell_type": "code",
   "execution_count": null,
   "metadata": {},
   "outputs": [],
   "source": [
    "import glob\n",
    "\n",
    "#the duplicate files to be ignored; all identical to 1600\n",
    "duplicate_files = [str(i) for i in range(1611, 1618)] # '1611',...'1617'\n",
    "\n",
    "path = r'/kaggle/input/wisdm-dataset/wisdm-dataset/arff_files/phone/accel'\n",
    "all_files = glob.glob(path + \"/*.arff\")\n",
    "\n",
    "list_dfs_phone_accel = []\n",
    "\n",
    "for filename in all_files:\n",
    "\n",
    "    if any(dup_fn in filename for dup_fn in duplicate_files):\n",
    "        continue #ignore the duplicate files\n",
    "    df = pd.read_csv(filename, names = features, skiprows = 96, index_col=None, header=0)\n",
    "    list_dfs_phone_accel.append(df)\n",
    "\n",
    "all_phone_accel = pd.concat(list_dfs_phone_accel, axis=0, ignore_index=True, sort=False)\n",
    "\n",
    "all_phone_accel"
   ]
  },
  {
   "cell_type": "code",
   "execution_count": null,
   "metadata": {},
   "outputs": [],
   "source": [
    "all_phone_accel.info()\n",
    "all_phone_accel_breakpoint = all_phone_accel.copy()\n",
    "all_phone_accel['ACTIVITY'].map(activity_codes_mapping).value_counts()"
   ]
  },
  {
   "cell_type": "code",
   "execution_count": null,
   "metadata": {},
   "outputs": [],
   "source": [
    "_ = all_phone_accel['ACTIVITY'].map(activity_codes_mapping).value_counts().plot(kind = 'bar', figsize = (15,5), color = 'purple', title = 'row count per activity', legend = True, fontsize = 15)"
   ]
  },
  {
   "cell_type": "code",
   "execution_count": null,
   "metadata": {},
   "outputs": [],
   "source": [
    "_ = all_phone_accel['PARTICIPANT'].value_counts().plot(kind = 'bar', figsize = (15,5), color = 'orange', title= 'rows count per participant', legend = True, fontsize = 15)"
   ]
  },
  {
   "cell_type": "code",
   "execution_count": null,
   "metadata": {},
   "outputs": [],
   "source": [
    "all_phone_accel[['XABSOLDEV', 'YABSOLDEV','ZABSOLDEV','XSTANDDEV', 'YSTANDDEV', 'ZSTANDDEV', 'XVAR', 'YVAR', 'ZVAR']].head()\n",
    "all_phone_accel.drop(['XSTANDDEV','YSTANDDEV','ZSTANDDEV','XVAR','YVAR','ZVAR'], axis = 1, inplace = True)"
   ]
  },
  {
   "cell_type": "code",
   "execution_count": null,
   "metadata": {},
   "outputs": [],
   "source": [
    "ax = all_phone_accel.hist(bins=30, figsize=(25, 15), xlabelsize = 7, ylabelsize = 7)\n",
    "_ = all_phone_accel[['XAVG', 'YAVG', 'ZAVG']].hist(bins=30, figsize=(15, 10))"
   ]
  },
  {
   "cell_type": "code",
   "execution_count": null,
   "metadata": {},
   "outputs": [],
   "source": [
    "_ = all_phone_accel[['X0', 'X1', 'X2', 'X3','X4','X5','X6','X7','X8','X9']].hist(bins=30, figsize=(15, 10))"
   ]
  },
  {
   "cell_type": "code",
   "execution_count": null,
   "metadata": {},
   "outputs": [],
   "source": [
    "import seaborn as sns\n",
    "\n",
    "sns.set(color_codes=True)\n",
    "sns.set(style=\"white\", palette=\"muted\")\n",
    "_ = sns.distplot(all_phone_accel['XAVG'])"
   ]
  },
  {
   "cell_type": "code",
   "execution_count": null,
   "metadata": {},
   "outputs": [],
   "source": [
    "_ = all_phone_accel['XAVG'].hist(bins=40, color = 'cyan')"
   ]
  },
  {
   "cell_type": "code",
   "execution_count": null,
   "metadata": {},
   "outputs": [],
   "source": [
    "_ = sns.distplot(all_phone_accel['YAVG'])"
   ]
  },
  {
   "cell_type": "code",
   "execution_count": null,
   "metadata": {},
   "outputs": [],
   "source": [
    "_ = sns.distplot(all_phone_accel['ZAVG'])"
   ]
  },
  {
   "cell_type": "code",
   "execution_count": null,
   "metadata": {},
   "outputs": [],
   "source": [
    "_ = sns.distplot(all_phone_accel['XYCOR'])"
   ]
  },
  {
   "cell_type": "code",
   "execution_count": null,
   "metadata": {},
   "outputs": [],
   "source": [
    "_ = sns.distplot(all_phone_accel['XYCOS'])"
   ]
  },
  {
   "cell_type": "code",
   "execution_count": null,
   "metadata": {},
   "outputs": [],
   "source": [
    "_ = sns.distplot(all_phone_accel['RESULTANT'])"
   ]
  },
  {
   "cell_type": "code",
   "execution_count": null,
   "metadata": {},
   "outputs": [],
   "source": [
    "_ = sns.distplot(all_phone_accel['YMFCC5'])"
   ]
  },
  {
   "cell_type": "markdown",
   "metadata": {},
   "source": [
    "# Preprocessing"
   ]
  },
  {
   "cell_type": "code",
   "execution_count": null,
   "metadata": {},
   "outputs": [],
   "source": [
    "all_phone_accel.drop('PARTICIPANT', axis = 1, inplace = True)\n",
    "from sklearn.model_selection import train_test_split\n",
    "\n",
    "y = all_phone_accel.ACTIVITY\n",
    "X = all_phone_accel.drop('ACTIVITY', axis=1)\n",
    "\n",
    "X_train, X_test, y_train, y_test = train_test_split(X, y, \n",
    "                                                    train_size = 0.75, \n",
    "                                                    test_size = 0.25,\n",
    "                                                    shuffle = True, \n",
    "                                                    stratify = all_phone_accel.ACTIVITY)\n",
    "\n",
    "X_train\n",
    "y_train\n",
    "X_test\n",
    "y_test"
   ]
  },
  {
   "cell_type": "code",
   "execution_count": null,
   "metadata": {},
   "outputs": [],
   "source": [
    "_ = y_train.map(activity_codes_mapping).value_counts().plot(kind = 'bar', figsize = (15,5), color = 'purple', title = 'row count per activity', legend = True, fontsize = 15)"
   ]
  },
  {
   "cell_type": "code",
   "execution_count": null,
   "metadata": {},
   "outputs": [],
   "source": [
    "_ = y_test.map(activity_codes_mapping).value_counts().plot(kind = 'bar', figsize = (15,5), color = 'purple', title = 'row count per activity', legend = True, fontsize = 15)"
   ]
  },
  {
   "cell_type": "code",
   "execution_count": null,
   "metadata": {},
   "outputs": [],
   "source": [
    "X_train.insert(0, 'Y', y_train)\n",
    "X_train"
   ]
  },
  {
   "cell_type": "code",
   "execution_count": null,
   "metadata": {},
   "outputs": [],
   "source": [
    "upper_threshold_XPEAK = X_train.XPEAK.mean() + 9*X_train.XPEAK.std()\n",
    "upper_threshold_XPEAK"
   ]
  },
  {
   "cell_type": "code",
   "execution_count": null,
   "metadata": {},
   "outputs": [],
   "source": [
    "X_train.XPEAK.max()"
   ]
  },
  {
   "cell_type": "code",
   "execution_count": null,
   "metadata": {},
   "outputs": [],
   "source": [
    "_ = X_train.boxplot(column=['XPEAK'], figsize=[25,1], vert=False)"
   ]
  },
  {
   "cell_type": "code",
   "execution_count": null,
   "metadata": {},
   "outputs": [],
   "source": [
    "X_train = X_train[X_train.XPEAK < upper_threshold_XPEAK].copy()"
   ]
  },
  {
   "cell_type": "code",
   "execution_count": null,
   "metadata": {},
   "outputs": [],
   "source": [
    "upper_threshold_YPEAK = X_train.YPEAK.mean() + 9*X_train.YPEAK.std()\n",
    "upper_threshold_YPEAK"
   ]
  },
  {
   "cell_type": "code",
   "execution_count": null,
   "metadata": {},
   "outputs": [],
   "source": [
    "X_train.YPEAK.max()"
   ]
  },
  {
   "cell_type": "code",
   "execution_count": null,
   "metadata": {},
   "outputs": [],
   "source": [
    "_ = X_train.boxplot(column=['YPEAK'], figsize=[25,1], vert=False)"
   ]
  },
  {
   "cell_type": "code",
   "execution_count": null,
   "metadata": {},
   "outputs": [],
   "source": [
    "X_train = X_train[X_train.YPEAK < upper_threshold_YPEAK].copy()"
   ]
  },
  {
   "cell_type": "code",
   "execution_count": null,
   "metadata": {},
   "outputs": [],
   "source": [
    "_ = X_train.boxplot(column=['YPEAK'], figsize=[25,1], vert=False)"
   ]
  },
  {
   "cell_type": "code",
   "execution_count": null,
   "metadata": {},
   "outputs": [],
   "source": [
    "upper_threshold_ZPEAK = X_train.ZPEAK.mean() + 9*X_train.ZPEAK.std()\n",
    "upper_threshold_ZPEAK"
   ]
  },
  {
   "cell_type": "code",
   "execution_count": null,
   "metadata": {},
   "outputs": [],
   "source": [
    "X_train.ZPEAK.max()"
   ]
  },
  {
   "cell_type": "code",
   "execution_count": null,
   "metadata": {},
   "outputs": [],
   "source": [
    "_ = X_train.boxplot(column=['ZPEAK'], figsize=[25,1], vert=False)"
   ]
  },
  {
   "cell_type": "code",
   "execution_count": null,
   "metadata": {},
   "outputs": [],
   "source": [
    "X_train = X_train[X_train.ZPEAK < upper_threshold_ZPEAK].copy()"
   ]
  },
  {
   "cell_type": "code",
   "execution_count": null,
   "metadata": {},
   "outputs": [],
   "source": [
    "_ = X_train.boxplot(column=['ZPEAK'], figsize=[25,1], vert=False)"
   ]
  },
  {
   "cell_type": "code",
   "execution_count": null,
   "metadata": {},
   "outputs": [],
   "source": [
    "y_train = X_train['Y']"
   ]
  },
  {
   "cell_type": "code",
   "execution_count": null,
   "metadata": {},
   "outputs": [],
   "source": [
    "y_train"
   ]
  },
  {
   "cell_type": "code",
   "execution_count": null,
   "metadata": {},
   "outputs": [],
   "source": [
    "X_train.drop(['Y'], axis = 1, inplace = True)"
   ]
  },
  {
   "cell_type": "markdown",
   "metadata": {},
   "source": [
    "## Scaling"
   ]
  },
  {
   "cell_type": "code",
   "execution_count": null,
   "metadata": {},
   "outputs": [],
   "source": [
    "from sklearn.preprocessing import MaxAbsScaler\n",
    "\n",
    "scaling_transformer = MaxAbsScaler().fit(X_train[['XAVG', 'YAVG', 'ZAVG', 'XPEAK', 'YPEAK', 'ZPEAK', 'XABSOLDEV', 'YABSOLDEV', 'ZABSOLDEV', 'RESULTANT']])\n",
    "X_train[['XAVG', 'YAVG', 'ZAVG', 'XPEAK', 'YPEAK', 'ZPEAK', 'XABSOLDEV', 'YABSOLDEV', 'ZABSOLDEV', 'RESULTANT']] = scaling_transformer.transform(X_train[['XAVG', 'YAVG', 'ZAVG', 'XPEAK', 'YPEAK', 'ZPEAK', 'XABSOLDEV', 'YABSOLDEV', 'ZABSOLDEV', 'RESULTANT']])\n",
    "X_test = X_test.copy()\n",
    "X_test[['XAVG', 'YAVG', 'ZAVG', 'XPEAK', 'YPEAK', 'ZPEAK', 'XABSOLDEV', 'YABSOLDEV', 'ZABSOLDEV', 'RESULTANT']] = scaling_transformer.transform(X_test[['XAVG', 'YAVG', 'ZAVG', 'XPEAK', 'YPEAK', 'ZPEAK', 'XABSOLDEV', 'YABSOLDEV', 'ZABSOLDEV', 'RESULTANT']])"
   ]
  },
  {
   "cell_type": "code",
   "execution_count": null,
   "metadata": {},
   "outputs": [],
   "source": [
    "X_train.reset_index(drop = True, inplace = True)\n",
    "X_train"
   ]
  },
  {
   "cell_type": "code",
   "execution_count": null,
   "metadata": {},
   "outputs": [],
   "source": [
    "X_test.reset_index(drop = True, inplace = True)\n",
    "X_test"
   ]
  },
  {
   "cell_type": "code",
   "execution_count": null,
   "metadata": {},
   "outputs": [],
   "source": [
    "y_train.reset_index(drop = True, inplace = True)\n",
    "y_train"
   ]
  },
  {
   "cell_type": "code",
   "execution_count": null,
   "metadata": {},
   "outputs": [],
   "source": [
    "y_test.reset_index(drop = True, inplace = True)\n",
    "y_test"
   ]
  }
 ],
 "metadata": {
  "language_info": {
   "name": "python"
  }
 },
 "nbformat": 4,
 "nbformat_minor": 2
}
